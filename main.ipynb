{
 "cells": [
  {
   "attachments": {},
   "cell_type": "markdown",
   "metadata": {},
   "source": [
    "# Needed imports"
   ]
  },
  {
   "cell_type": "code",
   "execution_count": 1,
   "metadata": {},
   "outputs": [],
   "source": [
    "import nltk\n",
    "import os\n",
    "import random"
   ]
  },
  {
   "cell_type": "code",
   "execution_count": 4,
   "metadata": {},
   "outputs": [
    {
     "name": "stderr",
     "output_type": "stream",
     "text": [
      "[nltk_data] Downloading package punkt to\n",
      "[nltk_data]     C:\\Users\\abdal\\AppData\\Roaming\\nltk_data...\n",
      "[nltk_data]   Package punkt is already up-to-date!\n"
     ]
    },
    {
     "data": {
      "text/plain": [
       "True"
      ]
     },
     "execution_count": 4,
     "metadata": {},
     "output_type": "execute_result"
    }
   ],
   "source": [
    "nltk.download('punkt')"
   ]
  },
  {
   "attachments": {},
   "cell_type": "markdown",
   "metadata": {},
   "source": [
    "# Data Preprocessing"
   ]
  },
  {
   "cell_type": "code",
   "execution_count": 30,
   "metadata": {},
   "outputs": [
    {
     "name": "stdout",
     "output_type": "stream",
     "text": [
      "Sample of size:  232465 is used\n"
     ]
    }
   ],
   "source": [
    "dataset_path = \"./data\"\n",
    "data_text = \"\"\n",
    "files = os.listdir(dataset_path)\n",
    "for file_index in range(300):\n",
    "    filename = files[file_index]\n",
    "    with open(os.path.join(dataset_path, filename), 'r', encoding='utf-8') as file:\n",
    "        data_text += file.read()\n",
    "\n",
    "data_text = data_text.replace('\\n', ' ').replace('\\r', ' ') # Replace new lines and carriage returns with spaces\n",
    "data_text = ' '.join(data_text.split()) # Replace multiple whitespaces with a single space\n",
    "data_text = data_text.lower() # Convert all text to lowercase\n",
    "tokens = nltk.word_tokenize(data_text)\n",
    "print(\"Sample of size: \", len(tokens), \"is used\")"
   ]
  },
  {
   "cell_type": "code",
   "execution_count": 22,
   "metadata": {},
   "outputs": [],
   "source": [
    "trigrams = {}\n",
    "for i in range(len(tokens) - 2):\n",
    "    trigram = (tokens[i], tokens[i+1], tokens[i+2])\n",
    "    trigrams[trigram] = trigrams.get(trigram, 0) + 1\n",
    "\n",
    "# Sort the dictionary based on the frequency count of each trigram\n",
    "trigrams = {k: v for k, v in sorted(trigrams.items(), key=lambda item: item[1], reverse=True)}\n",
    "\n",
    "# Define a function to suggest the next word based on the last two words of the input sentence\n",
    "def suggest_next_word(sentence):\n",
    "    words = nltk.word_tokenize(sentence.lower())\n",
    "    if len(words) == 0:\n",
    "        candidates = []\n",
    "    elif len(words) == 1:\n",
    "        candidates = [k[2] for k in trigrams.keys() if k[:1] == (words[0],)]\n",
    "    else:\n",
    "        last_two_words = tuple(words[-2:])\n",
    "        candidates = [k[2] for k in trigrams.keys() if k[:2] == last_two_words]\n",
    "    return candidates"
   ]
  },
  {
   "attachments": {},
   "cell_type": "markdown",
   "metadata": {},
   "source": [
    "# GUI"
   ]
  },
  {
   "cell_type": "code",
   "execution_count": 27,
   "metadata": {},
   "outputs": [],
   "source": [
    "import tkinter as tk\n",
    "root = tk.Tk()\n",
    "root.title(\"Auto-filling model using trigram\")\n",
    "\n",
    "# create label and entry widgets\n",
    "tk.Label(root, text=\"Enter text:\").grid(row=0, column=0, padx=5, pady=5)\n",
    "entry = tk.Entry(root, width=50)\n",
    "entry.grid(row=0, column=1, padx=5, pady=5)\n",
    "\n",
    "# create suggestions list widget\n",
    "tk.Label(root, text=\"Suggestions:\").grid(row=1, column=0, padx=5, pady=5)\n",
    "listbox = tk.Listbox(root, height=5, width=50)\n",
    "listbox.grid(row=1, column=1, padx=5, pady=5)\n",
    "\n",
    "# define function to update suggestions list\n",
    "def update_suggestions(event):\n",
    "    if event.keysym == \"Return\":\n",
    "        sentence = entry.get()\n",
    "        suggestions = suggest_next_word(sentence)[:5]\n",
    "        listbox.delete(0, tk.END)\n",
    "        if(not suggestions):\n",
    "            listbox.insert(tk.END, \"--\")\n",
    "        for suggestion in suggestions:\n",
    "            listbox.insert(tk.END, suggestion)\n",
    "\n",
    "# bind entry widget to update_suggestions function\n",
    "entry.bind(\"<KeyRelease>\", update_suggestions)\n",
    "\n",
    "root.mainloop()"
   ]
  }
 ],
 "metadata": {
  "kernelspec": {
   "display_name": "Python 3",
   "language": "python",
   "name": "python3"
  },
  "language_info": {
   "codemirror_mode": {
    "name": "ipython",
    "version": 3
   },
   "file_extension": ".py",
   "mimetype": "text/x-python",
   "name": "python",
   "nbconvert_exporter": "python",
   "pygments_lexer": "ipython3",
   "version": "3.10.0"
  },
  "orig_nbformat": 4,
  "vscode": {
   "interpreter": {
    "hash": "be4d790d84ac43a242e708596ecc1cdd41e227f257f1454e7336703a902f8851"
   }
  }
 },
 "nbformat": 4,
 "nbformat_minor": 2
}
