{
 "cells": [
  {
   "attachments": {},
   "cell_type": "markdown",
   "metadata": {},
   "source": [
    "# Needed imports"
   ]
  },
  {
   "cell_type": "code",
   "execution_count": 21,
   "metadata": {},
   "outputs": [],
   "source": [
    "import nltk\n",
    "import os"
   ]
  },
  {
   "cell_type": "code",
   "execution_count": 22,
   "metadata": {},
   "outputs": [
    {
     "name": "stderr",
     "output_type": "stream",
     "text": [
      "[nltk_data] Downloading package punkt to\n",
      "[nltk_data]     C:\\Users\\abdal\\AppData\\Roaming\\nltk_data...\n",
      "[nltk_data]   Package punkt is already up-to-date!\n"
     ]
    },
    {
     "data": {
      "text/plain": [
       "True"
      ]
     },
     "execution_count": 22,
     "metadata": {},
     "output_type": "execute_result"
    }
   ],
   "source": [
    "nltk.download('punkt')"
   ]
  },
  {
   "attachments": {},
   "cell_type": "markdown",
   "metadata": {},
   "source": [
    "# Data Preprocessing"
   ]
  },
  {
   "cell_type": "code",
   "execution_count": 23,
   "metadata": {},
   "outputs": [
    {
     "name": "stdout",
     "output_type": "stream",
     "text": [
      "Sample of size:  838472 is used\n"
     ]
    }
   ],
   "source": [
    "dataset_path = \"./data\"\n",
    "data_text = \"\"\n",
    "files = os.listdir(dataset_path)\n",
    "for file_index in range(1000):\n",
    "    filename = files[file_index]\n",
    "    with open(os.path.join(dataset_path, filename), 'r', encoding='utf-8') as file:\n",
    "        data_text += file.read()\n",
    "\n",
    "\n",
    "sentences = data_text.split('\\n')\n",
    "    \n",
    "# Remove leading and trailing spaces\n",
    "sentences = [s.strip() for s in sentences]\n",
    "\n",
    "# Drop Empty Sentences\n",
    "sentences = [s for s in sentences if len(s) > 0]\n",
    "\n",
    "# Empty List to hold Tokenized Sentences\n",
    "tokens = []\n",
    "count = 0\n",
    "\n",
    "# Iterate through sentences\n",
    "for sentence in sentences:\n",
    "\t\t\n",
    "\t# Convert to lowercase\n",
    "\tsentence = sentence.lower()\n",
    "\t\n",
    "\t# Tokenize the sentence\n",
    "\ttokenized_sentence = nltk.word_tokenize(sentence)\n",
    "\t\n",
    "\t# Append to list\n",
    "\ttokens.append(tokenized_sentence)\n",
    "\tcount += len(tokenized_sentence)\n",
    "\n",
    "print(\"Sample of size: \", count, \"is used\")"
   ]
  },
  {
   "cell_type": "code",
   "execution_count": 24,
   "metadata": {},
   "outputs": [],
   "source": [
    "# Calculating frequencies using a dictionary\n",
    "trigrams = {}\n",
    "for tokenized_sentence in tokens:\n",
    "    tokenized_sentence = [\"<s>\", \"<s>\"] + tokenized_sentence\n",
    "    for i in range(len(tokenized_sentence) - 2):\n",
    "        trigram = (tokenized_sentence[i], tokenized_sentence[i+1], tokenized_sentence[i+2])\n",
    "        trigrams[trigram] = trigrams.get(trigram, 0) + 1\n",
    "\n",
    "# Sort the dictionary based on the frequency count of each trigram\n",
    "trigrams = {k: v for k, v in sorted(trigrams.items(), key=lambda item: item[1], reverse=True)}\n",
    "\n",
    "# Define a function to suggest the next word based on the last two words of the input sentence\n",
    "def get_suggestions(sentence):\n",
    "    words = [\"<s>\", \"<s>\"] + nltk.word_tokenize(sentence.lower())\n",
    "    if len(words) == 2:\n",
    "        candidates = []\n",
    "    else:\n",
    "        last_two_words = tuple(words[-2:])\n",
    "        candidates = [k[2] for k in trigrams.keys() if k[:2] == last_two_words]\n",
    "    return candidates"
   ]
  },
  {
   "attachments": {},
   "cell_type": "markdown",
   "metadata": {},
   "source": [
    "# GUI"
   ]
  },
  {
   "cell_type": "code",
   "execution_count": 25,
   "metadata": {},
   "outputs": [],
   "source": [
    "import tkinter as tk\n",
    "root = tk.Tk()\n",
    "root.title(\"Auto-filling model using trigram\")\n",
    "\n",
    "# create label and entry widgets\n",
    "tk.Label(root, text=\"Enter text:\").grid(row=0, column=0, padx=5, pady=5)\n",
    "entry = tk.Entry(root, width=50)\n",
    "entry.grid(row=0, column=1, padx=5, pady=5)\n",
    "\n",
    "# create suggestions list widget\n",
    "tk.Label(root, text=\"Suggestions:\").grid(row=1, column=0, padx=5, pady=5)\n",
    "listbox = tk.Listbox(root, height=5, width=50)\n",
    "listbox.grid(row=1, column=1, padx=5, pady=5)\n",
    "\n",
    "# define function to update suggestions list\n",
    "def update_suggestions(event):\n",
    "    if event.keysym == \"Return\":\n",
    "        sentence = entry.get()\n",
    "        suggestions = get_suggestions(sentence)[:5]\n",
    "        listbox.delete(0, tk.END)\n",
    "        if(not suggestions):\n",
    "            listbox.insert(tk.END, \"--\")\n",
    "        for suggestion in suggestions:\n",
    "            listbox.insert(tk.END, suggestion)\n",
    "\n",
    "# bind entry widget to update_suggestions function\n",
    "entry.bind(\"<KeyRelease>\", update_suggestions)\n",
    "\n",
    "root.mainloop()"
   ]
  }
 ],
 "metadata": {
  "kernelspec": {
   "display_name": "Python 3",
   "language": "python",
   "name": "python3"
  },
  "language_info": {
   "codemirror_mode": {
    "name": "ipython",
    "version": 3
   },
   "file_extension": ".py",
   "mimetype": "text/x-python",
   "name": "python",
   "nbconvert_exporter": "python",
   "pygments_lexer": "ipython3",
   "version": "3.10.0"
  },
  "orig_nbformat": 4,
  "vscode": {
   "interpreter": {
    "hash": "be4d790d84ac43a242e708596ecc1cdd41e227f257f1454e7336703a902f8851"
   }
  }
 },
 "nbformat": 4,
 "nbformat_minor": 2
}
